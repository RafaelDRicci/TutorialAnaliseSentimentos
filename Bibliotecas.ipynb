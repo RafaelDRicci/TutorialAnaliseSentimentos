{
 "cells": [
  {
   "cell_type": "markdown",
   "id": "robust-foundation",
   "metadata": {},
   "source": [
    "# Blibliotecas\n"
   ]
  },
  {
   "cell_type": "markdown",
   "id": "modern-civilization",
   "metadata": {},
   "source": [
    "Este documento vai apresentar brevemente as blibiotecas utilizadas e que não são nativas do Python. Os códigos vão ser de instalação das bibliotecas, caso já tenha as bibliotecas instaladas não vai ser necessário executa-los. \n",
    "\n",
    "* Utiliza-se \"!\" (exclamação) antes do comando para informar que o comando é para o sistema.\n",
    "* O projeto foi desenvolvido em um sistema Windows.\n",
    "* Foi utilizado o pip para instalar as bibliotecas.\n"
   ]
  },
  {
   "cell_type": "markdown",
   "id": "indirect-difficulty",
   "metadata": {},
   "source": [
    "## Pandas\n",
    "\n",
    "* Trata-se de um biblioteca para gerenciamento de base de dados.\n",
    "* Oferece diversas ferramentas para gerenciar esses dados.\n",
    "* Os dados são organizados em um estrutura chamada de DataFrame.\n",
    "* Disponível em: https://pandas.pydata.org/."
   ]
  },
  {
   "cell_type": "code",
   "execution_count": null,
   "id": "negative-object",
   "metadata": {},
   "outputs": [],
   "source": [
    "#Instalação do pandas\n",
    "!pip install pandas"
   ]
  },
  {
   "cell_type": "markdown",
   "id": "disturbed-retro",
   "metadata": {},
   "source": [
    "## Scikit-Learn\n",
    "* Biblioteca voltada para aprendizagem de máquina.\n",
    "* Possui uma vasta gama de algorítmos de classificação.\n",
    "* Possui também ferramentas de tranformações textuais.\n",
    "* Além de ferramentas para avaliações de classificadores.\n",
    "* Disponível em: https://scikit-learn.org/stable/"
   ]
  },
  {
   "cell_type": "code",
   "execution_count": null,
   "id": "wrong-dollar",
   "metadata": {},
   "outputs": [],
   "source": [
    "#Instalação do scikit-learn\n",
    "!pip install -U scikit-learn"
   ]
  },
  {
   "cell_type": "markdown",
   "id": "limited-atmosphere",
   "metadata": {},
   "source": [
    "## NLTK (Natural Liguagem Toolkit)\n",
    "* Voltada para o processamento de linguagem natural.\n",
    "* Empregada na etapa de pré-processamento de dados.\n",
    "* Diponível em: <https://www.nltk.org/>"
   ]
  },
  {
   "cell_type": "code",
   "execution_count": null,
   "id": "above-crest",
   "metadata": {},
   "outputs": [],
   "source": [
    "#Instalação do nltk\n",
    "!pip install nltk"
   ]
  },
  {
   "cell_type": "markdown",
   "id": "wound-adult",
   "metadata": {},
   "source": [
    "## Matplotlib\n",
    "* Criação de gráficos.\n",
    "* Facilita a visualização das bases de dados.\n",
    "* Disponível em: <https://matplotlib.org/>"
   ]
  },
  {
   "cell_type": "code",
   "execution_count": null,
   "id": "heated-agriculture",
   "metadata": {},
   "outputs": [],
   "source": [
    "#Instalação do matplotlib\n",
    "!pip install -U matplotlib"
   ]
  },
  {
   "cell_type": "markdown",
   "id": "baking-correction",
   "metadata": {},
   "source": [
    "## Seaborn\n",
    "* Também é uma biblioteca para contrução de gráficos.\n",
    "* Uma melhor visualização nas bases de dados.\n",
    "* Disponível em: <https://seaborn.pydata.org/>"
   ]
  },
  {
   "cell_type": "code",
   "execution_count": null,
   "id": "hawaiian-turner",
   "metadata": {},
   "outputs": [],
   "source": [
    "#Instalação do seaborn\n",
    "!pip install seaborn"
   ]
  },
  {
   "cell_type": "markdown",
   "id": "wooden-indication",
   "metadata": {},
   "source": [
    "## Wordcloud\n",
    "* Contrução de um tipo específico de gráfico chamado de Nuvem de Palavras.\n",
    "* Esse tipo de gráfico é voltado para dados textuais.\n",
    "* Trata-se de um aglomerado de palavras em que quanto maior ela for, mais frequente é na base.\n",
    "* Ajuda a ter uma visão ainda melhor de como são os dados.\n",
    "* Disponível em:<https://pypi.org/project/wordcloud/>"
   ]
  },
  {
   "cell_type": "code",
   "execution_count": null,
   "id": "rolled-alert",
   "metadata": {},
   "outputs": [],
   "source": [
    "#Instalação do wordcloud\n",
    "!pip install wordcloud"
   ]
  },
  {
   "cell_type": "code",
   "execution_count": null,
   "id": "unusual-arbitration",
   "metadata": {},
   "outputs": [],
   "source": []
  }
 ],
 "metadata": {
  "kernelspec": {
   "display_name": "Python 3",
   "language": "python",
   "name": "python3"
  },
  "language_info": {
   "codemirror_mode": {
    "name": "ipython",
    "version": 3
   },
   "file_extension": ".py",
   "mimetype": "text/x-python",
   "name": "python",
   "nbconvert_exporter": "python",
   "pygments_lexer": "ipython3",
   "version": "3.8.0"
  }
 },
 "nbformat": 4,
 "nbformat_minor": 5
}

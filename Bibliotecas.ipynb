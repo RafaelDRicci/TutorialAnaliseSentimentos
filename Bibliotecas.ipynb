{
 "cells": [
  {
   "cell_type": "markdown",
   "id": "robust-foundation",
   "metadata": {},
   "source": [
    "# Blibliotecas\n"
   ]
  },
  {
   "cell_type": "markdown",
   "id": "modern-civilization",
   "metadata": {},
   "source": [
    "Este documento vai apresentar brevemente as blibiotecas utilizadas e que não são nativas do Python. Os códigos vão ser de instalação das bibliotecas, caso já tenha as bibliotecas instaladas não vai ser necessário executa-los. \n",
    "\n",
    "* Utiliza-se \"!\" (exclamação) antes do comando para informar que o comando é para o sistema.\n",
    "* O projeto foi desenvolvido em um sistema Windows.\n",
    "* Foi utilizado o pip para instalar as bibliotecas.\n"
   ]
  },
  {
   "cell_type": "markdown",
   "id": "indirect-difficulty",
   "metadata": {},
   "source": [
    "## Pandas\n",
    "\n",
    "* Trata-se de um biblioteca para gerenciamento de base de dados.\n",
    "* Oferece diversas ferramentas para gerenciar esses dados.\n",
    "* Os dados são organizados em um estrutura chamada de DataFrame.\n",
    "* Disponível em: https://pandas.pydata.org/."
   ]
  },
  {
   "cell_type": "code",
   "execution_count": 1,
   "id": "negative-object",
   "metadata": {},
   "outputs": [
    {
     "name": "stdout",
     "output_type": "stream",
     "text": [
      "Collecting pandas\n",
      "  Downloading https://files.pythonhosted.org/packages/82/f6/c207a39768093f79345e20b99201f64445501356d63b9719e99ab6478707/pandas-1.2.1-cp38-cp38-win32.whl (8.2MB)\n",
      "Collecting numpy>=1.16.5\n",
      "  Downloading https://files.pythonhosted.org/packages/fd/25/273019ca5ffcabd8a8fff7dd44460e4f9a2ccbc59a647ce511cb721ff757/numpy-1.19.5-cp38-cp38-win32.whl (11.0MB)\n",
      "Collecting pytz>=2017.3\n",
      "  Downloading https://files.pythonhosted.org/packages/89/06/2c2d3034b4d6bf22f2a4ae546d16925898658a33b4400cfb7e2c1e2871a3/pytz-2020.5-py2.py3-none-any.whl (510kB)\n",
      "Requirement already satisfied: python-dateutil>=2.7.3 in c:\\users\\rafae\\appdata\\local\\programs\\python\\python38-32\\lib\\site-packages (from pandas) (2.8.1)\n",
      "Requirement already satisfied: six>=1.5 in c:\\users\\rafae\\appdata\\local\\programs\\python\\python38-32\\lib\\site-packages (from python-dateutil>=2.7.3->pandas) (1.15.0)\n",
      "Installing collected packages: numpy, pytz, pandas\n",
      "Successfully installed numpy-1.19.5 pandas-1.2.1 pytz-2020.5\n"
     ]
    },
    {
     "name": "stderr",
     "output_type": "stream",
     "text": [
      "WARNING: You are using pip version 19.3.1; however, version 21.0 is available.\n",
      "You should consider upgrading via the 'python -m pip install --upgrade pip' command.\n"
     ]
    }
   ],
   "source": [
    "#Instalação do pandas\n",
    "!pip install pandas"
   ]
  },
  {
   "cell_type": "markdown",
   "id": "disturbed-retro",
   "metadata": {},
   "source": [
    "## Scikit-Learn\n",
    "* Biblioteca voltada para aprendizagem de máquina.\n",
    "* Possui uma vasta gama de algorítmos de classificação.\n",
    "* Possui também ferramentas de tranformações textuais.\n",
    "* Além de ferramentas para avaliações de classificadores.\n",
    "* Disponível em: https://scikit-learn.org/stable/"
   ]
  },
  {
   "cell_type": "code",
   "execution_count": 2,
   "id": "wrong-dollar",
   "metadata": {},
   "outputs": [
    {
     "name": "stdout",
     "output_type": "stream",
     "text": [
      "Collecting scikit-learn\n",
      "  Downloading https://files.pythonhosted.org/packages/9e/2e/b846393246a9dd8c770bfb0b5fc27a3ed60e00483e46b3e2f11c16663893/scikit_learn-0.24.1-cp38-cp38-win32.whl (6.1MB)\n",
      "Collecting scipy>=0.19.1\n",
      "  Downloading https://files.pythonhosted.org/packages/80/bc/09869a1cb83579ddbfe2646bbf01ce5397cbdb5ce33f33ca125ecf2acce4/scipy-1.6.0-cp38-cp38-win32.whl (29.5MB)\n",
      "Collecting threadpoolctl>=2.0.0\n",
      "  Downloading https://files.pythonhosted.org/packages/f7/12/ec3f2e203afa394a149911729357aa48affc59c20e2c1c8297a60f33f133/threadpoolctl-2.1.0-py3-none-any.whl\n",
      "Collecting joblib>=0.11\n",
      "  Downloading https://files.pythonhosted.org/packages/34/5b/bd0f0fb5564183884d8e35b81d06d7ec06a20d1a0c8b4c407f1554691dce/joblib-1.0.0-py3-none-any.whl (302kB)\n",
      "Requirement already satisfied, skipping upgrade: numpy>=1.13.3 in c:\\users\\rafae\\appdata\\local\\programs\\python\\python38-32\\lib\\site-packages (from scikit-learn) (1.19.5)\n",
      "Installing collected packages: scipy, threadpoolctl, joblib, scikit-learn\n",
      "Successfully installed joblib-1.0.0 scikit-learn-0.24.1 scipy-1.6.0 threadpoolctl-2.1.0\n"
     ]
    },
    {
     "name": "stderr",
     "output_type": "stream",
     "text": [
      "WARNING: You are using pip version 19.3.1; however, version 21.0 is available.\n",
      "You should consider upgrading via the 'python -m pip install --upgrade pip' command.\n"
     ]
    }
   ],
   "source": [
    "#Instalação do scikit-learn\n",
    "!pip install -U scikit-learn"
   ]
  },
  {
   "cell_type": "markdown",
   "id": "limited-atmosphere",
   "metadata": {},
   "source": [
    "## NLTK (Natural Liguagem Toolkit)\n",
    "* Voltada para o processamento de linguagem natural.\n",
    "* Empregada na etapa de pré-processamento de dados.\n",
    "* Diponível em: <https://www.nltk.org/>"
   ]
  },
  {
   "cell_type": "code",
   "execution_count": 3,
   "id": "above-crest",
   "metadata": {},
   "outputs": [
    {
     "name": "stdout",
     "output_type": "stream",
     "text": [
      "Collecting nltk\n",
      "  Downloading https://files.pythonhosted.org/packages/92/75/ce35194d8e3022203cca0d2f896dbb88689f9b3fce8e9f9cff942913519d/nltk-3.5.zip (1.4MB)\n",
      "Collecting click\n",
      "  Downloading https://files.pythonhosted.org/packages/d2/3d/fa76db83bf75c4f8d338c2fd15c8d33fdd7ad23a9b5e57eb6c5de26b430e/click-7.1.2-py2.py3-none-any.whl (82kB)\n",
      "Requirement already satisfied: joblib in c:\\users\\rafae\\appdata\\local\\programs\\python\\python38-32\\lib\\site-packages (from nltk) (1.0.0)\n",
      "Collecting regex\n",
      "  Downloading https://files.pythonhosted.org/packages/1d/f7/b6dcea19e7a49ae150a1fda90093628fe741428257ed0597ac4d70bf6b84/regex-2020.11.13-cp38-cp38-win32.whl (254kB)\n",
      "Collecting tqdm\n",
      "  Downloading https://files.pythonhosted.org/packages/80/02/8f8880a4fd6625461833abcf679d4c12a44c76f9925f92bf212bb6cefaad/tqdm-4.56.0-py2.py3-none-any.whl (72kB)\n",
      "Installing collected packages: click, regex, tqdm, nltk\n",
      "    Running setup.py install for nltk: started\n",
      "    Running setup.py install for nltk: finished with status 'done'\n",
      "Successfully installed click-7.1.2 nltk-3.5 regex-2020.11.13 tqdm-4.56.0\n"
     ]
    },
    {
     "name": "stderr",
     "output_type": "stream",
     "text": [
      "WARNING: You are using pip version 19.3.1; however, version 21.0 is available.\n",
      "You should consider upgrading via the 'python -m pip install --upgrade pip' command.\n"
     ]
    }
   ],
   "source": [
    "#Instalação do nltk\n",
    "!pip install nltk"
   ]
  },
  {
   "cell_type": "markdown",
   "id": "wound-adult",
   "metadata": {},
   "source": [
    "## Matplotlib\n",
    "* Criação de gráficos.\n",
    "* Facilita a visualização das bases de dados.\n",
    "* Disponível em: <https://matplotlib.org/>"
   ]
  },
  {
   "cell_type": "code",
   "execution_count": 4,
   "id": "heated-agriculture",
   "metadata": {},
   "outputs": [
    {
     "name": "stdout",
     "output_type": "stream",
     "text": [
      "Collecting matplotlib\n",
      "  Downloading https://files.pythonhosted.org/packages/cc/10/0f6301ef86ec6d960e3292854494dfe81b794c19383495aa90003939a7ad/matplotlib-3.3.3-cp38-cp38-win32.whl (8.3MB)\n",
      "Collecting kiwisolver>=1.0.1\n",
      "  Downloading https://files.pythonhosted.org/packages/57/f6/64bde0adeb2e406613818f41f9ad3d0ef694fb8772f8b37122ee9e6b31b1/kiwisolver-1.3.1-cp38-cp38-win32.whl (42kB)\n",
      "Collecting pillow>=6.2.0\n",
      "  Downloading https://files.pythonhosted.org/packages/1a/1a/bf0bb7469a146f951c9d2380883247f090aa292aa8b2909aa6076d2b9eb0/Pillow-8.1.0-cp38-cp38-win32.whl (1.9MB)\n",
      "Requirement already satisfied, skipping upgrade: python-dateutil>=2.1 in c:\\users\\rafae\\appdata\\local\\programs\\python\\python38-32\\lib\\site-packages (from matplotlib) (2.8.1)\n",
      "Collecting cycler>=0.10\n",
      "  Downloading https://files.pythonhosted.org/packages/f7/d2/e07d3ebb2bd7af696440ce7e754c59dd546ffe1bbe732c8ab68b9c834e61/cycler-0.10.0-py2.py3-none-any.whl\n",
      "Requirement already satisfied, skipping upgrade: numpy>=1.15 in c:\\users\\rafae\\appdata\\local\\programs\\python\\python38-32\\lib\\site-packages (from matplotlib) (1.19.5)\n",
      "Requirement already satisfied, skipping upgrade: pyparsing!=2.0.4,!=2.1.2,!=2.1.6,>=2.0.3 in c:\\users\\rafae\\appdata\\local\\programs\\python\\python38-32\\lib\\site-packages (from matplotlib) (2.4.7)\n",
      "Requirement already satisfied, skipping upgrade: six>=1.5 in c:\\users\\rafae\\appdata\\local\\programs\\python\\python38-32\\lib\\site-packages (from python-dateutil>=2.1->matplotlib) (1.15.0)\n",
      "Installing collected packages: kiwisolver, pillow, cycler, matplotlib\n",
      "Successfully installed cycler-0.10.0 kiwisolver-1.3.1 matplotlib-3.3.3 pillow-8.1.0\n"
     ]
    },
    {
     "name": "stderr",
     "output_type": "stream",
     "text": [
      "WARNING: You are using pip version 19.3.1; however, version 21.0 is available.\n",
      "You should consider upgrading via the 'python -m pip install --upgrade pip' command.\n"
     ]
    }
   ],
   "source": [
    "#Instalação do matplotlib\n",
    "!pip install -U matplotlib"
   ]
  },
  {
   "cell_type": "markdown",
   "id": "baking-correction",
   "metadata": {},
   "source": [
    "## Seaborn\n",
    "* Também é uma biblioteca para contrução de gráficos.\n",
    "* Uma melhor visualização nas bases de dados.\n",
    "* Disponível em: <https://seaborn.pydata.org/>"
   ]
  },
  {
   "cell_type": "code",
   "execution_count": 5,
   "id": "hawaiian-turner",
   "metadata": {},
   "outputs": [
    {
     "name": "stdout",
     "output_type": "stream",
     "text": [
      "Collecting seaborn"
     ]
    },
    {
     "name": "stderr",
     "output_type": "stream",
     "text": [
      "WARNING: You are using pip version 19.3.1; however, version 21.0 is available.\n",
      "You should consider upgrading via the 'python -m pip install --upgrade pip' command.\n"
     ]
    },
    {
     "name": "stdout",
     "output_type": "stream",
     "text": [
      "\n",
      "  Downloading https://files.pythonhosted.org/packages/68/ad/6c2406ae175f59ec616714e408979b674fe27b9587f79d59a528ddfbcd5b/seaborn-0.11.1-py3-none-any.whl (285kB)\n",
      "Requirement already satisfied: pandas>=0.23 in c:\\users\\rafae\\appdata\\local\\programs\\python\\python38-32\\lib\\site-packages (from seaborn) (1.2.1)\n",
      "Requirement already satisfied: numpy>=1.15 in c:\\users\\rafae\\appdata\\local\\programs\\python\\python38-32\\lib\\site-packages (from seaborn) (1.19.5)\n",
      "Requirement already satisfied: matplotlib>=2.2 in c:\\users\\rafae\\appdata\\local\\programs\\python\\python38-32\\lib\\site-packages (from seaborn) (3.3.3)\n",
      "Requirement already satisfied: scipy>=1.0 in c:\\users\\rafae\\appdata\\local\\programs\\python\\python38-32\\lib\\site-packages (from seaborn) (1.6.0)\n",
      "Requirement already satisfied: pytz>=2017.3 in c:\\users\\rafae\\appdata\\local\\programs\\python\\python38-32\\lib\\site-packages (from pandas>=0.23->seaborn) (2020.5)\n",
      "Requirement already satisfied: python-dateutil>=2.7.3 in c:\\users\\rafae\\appdata\\local\\programs\\python\\python38-32\\lib\\site-packages (from pandas>=0.23->seaborn) (2.8.1)\n",
      "Requirement already satisfied: pillow>=6.2.0 in c:\\users\\rafae\\appdata\\local\\programs\\python\\python38-32\\lib\\site-packages (from matplotlib>=2.2->seaborn) (8.1.0)\n",
      "Requirement already satisfied: pyparsing!=2.0.4,!=2.1.2,!=2.1.6,>=2.0.3 in c:\\users\\rafae\\appdata\\local\\programs\\python\\python38-32\\lib\\site-packages (from matplotlib>=2.2->seaborn) (2.4.7)\n",
      "Requirement already satisfied: kiwisolver>=1.0.1 in c:\\users\\rafae\\appdata\\local\\programs\\python\\python38-32\\lib\\site-packages (from matplotlib>=2.2->seaborn) (1.3.1)\n",
      "Requirement already satisfied: cycler>=0.10 in c:\\users\\rafae\\appdata\\local\\programs\\python\\python38-32\\lib\\site-packages (from matplotlib>=2.2->seaborn) (0.10.0)\n",
      "Requirement already satisfied: six>=1.5 in c:\\users\\rafae\\appdata\\local\\programs\\python\\python38-32\\lib\\site-packages (from python-dateutil>=2.7.3->pandas>=0.23->seaborn) (1.15.0)\n",
      "Installing collected packages: seaborn\n",
      "Successfully installed seaborn-0.11.1\n"
     ]
    }
   ],
   "source": [
    "#Instalação do seaborn\n",
    "!pip install seaborn"
   ]
  },
  {
   "cell_type": "markdown",
   "id": "wooden-indication",
   "metadata": {},
   "source": [
    "## Wordcloud\n",
    "* Contrução de um tipo específico de gráfico chamado de Nuvem de Palavras.\n",
    "* Esse tipo de gráfico é voltado para dados textuais.\n",
    "* Trata-se de um aglomerado de palavras em que quanto maior ela for, mais frequente é na base.\n",
    "* Ajuda a ter uma visão ainda melhor de como são os dados.\n",
    "* Disponível em:<https://pypi.org/project/wordcloud/>"
   ]
  },
  {
   "cell_type": "code",
   "execution_count": 6,
   "id": "rolled-alert",
   "metadata": {},
   "outputs": [
    {
     "name": "stdout",
     "output_type": "stream",
     "text": [
      "Collecting wordcloud\n",
      "  Downloading https://files.pythonhosted.org/packages/93/05/1f17541135c5bb75c1415d4bda1ab80a80b5b1e7ab673d73f74f230d15db/wordcloud-1.8.1-cp38-cp38-win32.whl (145kB)\n",
      "Requirement already satisfied: numpy>=1.6.1 in c:\\users\\rafae\\appdata\\local\\programs\\python\\python38-32\\lib\\site-packages (from wordcloud) (1.19.5)\n",
      "Requirement already satisfied: matplotlib in c:\\users\\rafae\\appdata\\local\\programs\\python\\python38-32\\lib\\site-packages (from wordcloud) (3.3.3)\n",
      "Requirement already satisfied: pillow in c:\\users\\rafae\\appdata\\local\\programs\\python\\python38-32\\lib\\site-packages (from wordcloud) (8.1.0)\n",
      "Requirement already satisfied: cycler>=0.10 in c:\\users\\rafae\\appdata\\local\\programs\\python\\python38-32\\lib\\site-packages (from matplotlib->wordcloud) (0.10.0)\n",
      "Requirement already satisfied: kiwisolver>=1.0.1 in c:\\users\\rafae\\appdata\\local\\programs\\python\\python38-32\\lib\\site-packages (from matplotlib->wordcloud) (1.3.1)\n",
      "Requirement already satisfied: python-dateutil>=2.1 in c:\\users\\rafae\\appdata\\local\\programs\\python\\python38-32\\lib\\site-packages (from matplotlib->wordcloud) (2.8.1)\n",
      "Requirement already satisfied: pyparsing!=2.0.4,!=2.1.2,!=2.1.6,>=2.0.3 in c:\\users\\rafae\\appdata\\local\\programs\\python\\python38-32\\lib\\site-packages (from matplotlib->wordcloud) (2.4.7)\n",
      "Requirement already satisfied: six in c:\\users\\rafae\\appdata\\local\\programs\\python\\python38-32\\lib\\site-packages (from cycler>=0.10->matplotlib->wordcloud) (1.15.0)\n",
      "Installing collected packages: wordcloud\n",
      "Successfully installed wordcloud-1.8.1\n"
     ]
    },
    {
     "name": "stderr",
     "output_type": "stream",
     "text": [
      "WARNING: You are using pip version 19.3.1; however, version 21.0 is available.\n",
      "You should consider upgrading via the 'python -m pip install --upgrade pip' command.\n"
     ]
    }
   ],
   "source": [
    "#Instalação do wordcloud\n",
    "!pip install wordcloud"
   ]
  },
  {
   "cell_type": "code",
   "execution_count": null,
   "id": "unusual-arbitration",
   "metadata": {},
   "outputs": [],
   "source": []
  }
 ],
 "metadata": {
  "kernelspec": {
   "display_name": "Python 3",
   "language": "python",
   "name": "python3"
  },
  "language_info": {
   "codemirror_mode": {
    "name": "ipython",
    "version": 3
   },
   "file_extension": ".py",
   "mimetype": "text/x-python",
   "name": "python",
   "nbconvert_exporter": "python",
   "pygments_lexer": "ipython3",
   "version": "3.8.0"
  }
 },
 "nbformat": 4,
 "nbformat_minor": 5
}
